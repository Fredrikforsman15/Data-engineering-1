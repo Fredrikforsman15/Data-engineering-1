{
 "cells": [
  {
   "cell_type": "markdown",
   "metadata": {},
   "source": [
    "### Notebook used for calculating and plotting metrics for weak and strong scalability experiments"
   ]
  },
  {
   "cell_type": "code",
   "execution_count": null,
   "metadata": {},
   "outputs": [],
   "source": [
    "import pandas as pd\n",
    "import matplotlib.pyplot as plt"
   ]
  },
  {
   "cell_type": "code",
   "execution_count": 15,
   "metadata": {},
   "outputs": [],
   "source": [
    "# Load strong scalability results\n",
    "strong_df = pd.read_csv(\"strong_scalability.csv\")\n",
    "\n",
    "# Calculate speedup and efficiency and add to csv\n",
    "\n",
    "strong_df[\"aggregation_speedup\"] = strong_df.loc[strong_df[\"num_of_workers\"] == 1, \"aggregation_time\"].values[0] / strong_df[\"aggregation_time\"]\n",
    "strong_df[\"total_time_speedup\"] = strong_df.loc[strong_df[\"num_of_workers\"] == 1, \"total_time\"].values[0] / strong_df[\"total_time\"] \n",
    "\n",
    "strong_df[\"aggregation_efficiency\"] = strong_df[\"aggregation_speedup\"] / strong_df[\"num_of_workers\"]\n",
    "strong_df[\"total_time_efficiency\"] = strong_df[\"total_time_speedup\"] / strong_df[\"num_of_workers\"]\n",
    "\n",
    "# Write to csv\n",
    "\n",
    "strong_df.to_csv(\"strong_scalability.csv\")\n"
   ]
  },
  {
   "cell_type": "code",
   "execution_count": 22,
   "metadata": {},
   "outputs": [],
   "source": [
    "# Load weak scalability results\n",
    "\n",
    "weak_df = pd.read_csv(\"weak_scalability.csv\")\n",
    "\n",
    "# speedup and efficiency\n",
    "weak_df[\"aggregation_speedup\"] = weak_df.loc[weak_df[\"num_of_workers\"] == 1, \"aggregation_time\"].values[0] / weak_df[\"aggregation_time\"]\n",
    "weak_df[\"total_time_speedup\"] = weak_df.loc[weak_df[\"num_of_workers\"] == 1, \"total_time\"].values[0] / weak_df[\"total_time\"] \n",
    "\n",
    "weak_df[\"aggregation_efficiency\"] = weak_df[\"aggregation_speedup\"] / weak_df[\"num_of_workers\"]\n",
    "weak_df[\"total_time_efficiency\"] = weak_df[\"total_time_speedup\"] / weak_df[\"num_of_workers\"]\n",
    "\n",
    "# Write to csv\n",
    "weak_df.to_csv(\"weak_scalability.csv\")"
   ]
  },
  {
   "cell_type": "code",
   "execution_count": null,
   "metadata": {},
   "outputs": [],
   "source": []
  }
 ],
 "metadata": {
  "kernelspec": {
   "display_name": "Python 3 (ipykernel)",
   "language": "python",
   "name": "python3"
  },
  "language_info": {
   "codemirror_mode": {
    "name": "ipython",
    "version": 3
   },
   "file_extension": ".py",
   "mimetype": "text/x-python",
   "name": "python",
   "nbconvert_exporter": "python",
   "pygments_lexer": "ipython3",
   "version": "3.10.12"
  }
 },
 "nbformat": 4,
 "nbformat_minor": 2
}
